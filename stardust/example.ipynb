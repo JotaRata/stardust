{
 "cells": [
  {
   "cell_type": "code",
   "execution_count": 5,
   "metadata": {},
   "outputs": [],
   "source": [
    "import stardust\n",
    "from tqdm.notebook import tqdm_notebook"
   ]
  },
  {
   "cell_type": "code",
   "execution_count": 6,
   "metadata": {},
   "outputs": [
    {
     "name": "stdout",
     "output_type": "stream",
     "text": [
      "READ CONFIG FILE example.config\n",
      "Read a catalogue with 300 objects\n",
      "Read band file: stellar+ir/example.bands\n",
      "Read param file: stellar+ir/example.bands\n",
      "Detected the following parameters ['ID', 'z', 'Mstar']\n",
      "Input Bands: ok\n",
      "Input Filters: ok\n",
      "Data Loaded Successfully\n",
      "Objects to Fit: 300\n"
     ]
    }
   ],
   "source": [
    "self = stardust.main.ctf('example.config')"
   ]
  },
  {
   "cell_type": "code",
   "execution_count": null,
   "metadata": {},
   "outputs": [
    {
     "name": "stdout",
     "output_type": "stream",
     "text": [
      "Begin Multithreading\n",
      "12 threads utilised\n"
     ]
    },
    {
     "name": "stderr",
     "output_type": "stream",
     "text": [
      "  0%|                                                                             | 0/12 [00:00<?, ?it/s]Process SpawnPoolWorker-40:\n",
      "Process SpawnPoolWorker-47:\n",
      "Traceback (most recent call last):\n",
      "Traceback (most recent call last):\n",
      "  File \"/Users/vasily/miniconda3/envs/stardust/lib/python3.9/multiprocessing/process.py\", line 315, in _bootstrap\n",
      "    self.run()\n",
      "  File \"/Users/vasily/miniconda3/envs/stardust/lib/python3.9/multiprocessing/process.py\", line 108, in run\n",
      "    self._target(*self._args, **self._kwargs)\n",
      "  File \"/Users/vasily/miniconda3/envs/stardust/lib/python3.9/multiprocessing/pool.py\", line 114, in worker\n",
      "    task = get()\n",
      "  File \"/Users/vasily/miniconda3/envs/stardust/lib/python3.9/multiprocessing/queues.py\", line 368, in get\n",
      "    return _ForkingPickler.loads(res)\n",
      "  File \"/Users/vasily/miniconda3/envs/stardust/lib/python3.9/multiprocessing/process.py\", line 315, in _bootstrap\n",
      "    self.run()\n",
      "  File \"/Users/vasily/miniconda3/envs/stardust/lib/python3.9/multiprocessing/process.py\", line 108, in run\n",
      "    self._target(*self._args, **self._kwargs)\n",
      "  File \"/Users/vasily/miniconda3/envs/stardust/lib/python3.9/multiprocessing/pool.py\", line 114, in worker\n",
      "    task = get()\n",
      "AttributeError: Can't get attribute 'mp_wrapper' on <module 'stardust.main' from '/Users/vasily/miniconda3/envs/stardust/lib/python3.9/site-packages/stardust/main.py'>\n",
      "  File \"/Users/vasily/miniconda3/envs/stardust/lib/python3.9/multiprocessing/queues.py\", line 368, in get\n",
      "    return _ForkingPickler.loads(res)\n",
      "AttributeError: Can't get attribute 'mp_wrapper' on <module 'stardust.main' from '/Users/vasily/miniconda3/envs/stardust/lib/python3.9/site-packages/stardust/main.py'>\n",
      "Process SpawnPoolWorker-37:\n",
      "Traceback (most recent call last):\n",
      "  File \"/Users/vasily/miniconda3/envs/stardust/lib/python3.9/multiprocessing/process.py\", line 315, in _bootstrap\n",
      "    self.run()\n",
      "  File \"/Users/vasily/miniconda3/envs/stardust/lib/python3.9/multiprocessing/process.py\", line 108, in run\n",
      "    self._target(*self._args, **self._kwargs)\n",
      "  File \"/Users/vasily/miniconda3/envs/stardust/lib/python3.9/multiprocessing/pool.py\", line 114, in worker\n",
      "    task = get()\n",
      "  File \"/Users/vasily/miniconda3/envs/stardust/lib/python3.9/multiprocessing/queues.py\", line 368, in get\n",
      "    return _ForkingPickler.loads(res)\n",
      "AttributeError: Can't get attribute 'mp_wrapper' on <module 'stardust.main' from '/Users/vasily/miniconda3/envs/stardust/lib/python3.9/site-packages/stardust/main.py'>\n",
      "Process SpawnPoolWorker-45:\n",
      "Traceback (most recent call last):\n",
      "  File \"/Users/vasily/miniconda3/envs/stardust/lib/python3.9/multiprocessing/process.py\", line 315, in _bootstrap\n",
      "    self.run()\n",
      "  File \"/Users/vasily/miniconda3/envs/stardust/lib/python3.9/multiprocessing/process.py\", line 108, in run\n",
      "    self._target(*self._args, **self._kwargs)\n",
      "  File \"/Users/vasily/miniconda3/envs/stardust/lib/python3.9/multiprocessing/pool.py\", line 114, in worker\n",
      "    task = get()\n",
      "  File \"/Users/vasily/miniconda3/envs/stardust/lib/python3.9/multiprocessing/queues.py\", line 368, in get\n",
      "    return _ForkingPickler.loads(res)\n",
      "AttributeError: Can't get attribute 'mp_wrapper' on <module 'stardust.main' from '/Users/vasily/miniconda3/envs/stardust/lib/python3.9/site-packages/stardust/main.py'>\n",
      "Process SpawnPoolWorker-39:\n",
      "Process SpawnPoolWorker-42:\n",
      "Traceback (most recent call last):\n",
      "  File \"/Users/vasily/miniconda3/envs/stardust/lib/python3.9/multiprocessing/process.py\", line 315, in _bootstrap\n",
      "    self.run()\n",
      "  File \"/Users/vasily/miniconda3/envs/stardust/lib/python3.9/multiprocessing/process.py\", line 108, in run\n",
      "    self._target(*self._args, **self._kwargs)\n",
      "  File \"/Users/vasily/miniconda3/envs/stardust/lib/python3.9/multiprocessing/pool.py\", line 114, in worker\n",
      "    task = get()\n",
      "  File \"/Users/vasily/miniconda3/envs/stardust/lib/python3.9/multiprocessing/queues.py\", line 368, in get\n",
      "    return _ForkingPickler.loads(res)\n",
      "AttributeError: Can't get attribute 'mp_wrapper' on <module 'stardust.main' from '/Users/vasily/miniconda3/envs/stardust/lib/python3.9/site-packages/stardust/main.py'>\n",
      "Traceback (most recent call last):\n",
      "  File \"/Users/vasily/miniconda3/envs/stardust/lib/python3.9/multiprocessing/process.py\", line 315, in _bootstrap\n",
      "    self.run()\n",
      "  File \"/Users/vasily/miniconda3/envs/stardust/lib/python3.9/multiprocessing/process.py\", line 108, in run\n",
      "    self._target(*self._args, **self._kwargs)\n",
      "  File \"/Users/vasily/miniconda3/envs/stardust/lib/python3.9/multiprocessing/pool.py\", line 114, in worker\n",
      "    task = get()\n",
      "  File \"/Users/vasily/miniconda3/envs/stardust/lib/python3.9/multiprocessing/queues.py\", line 368, in get\n",
      "    return _ForkingPickler.loads(res)\n",
      "AttributeError: Can't get attribute 'mp_wrapper' on <module 'stardust.main' from '/Users/vasily/miniconda3/envs/stardust/lib/python3.9/site-packages/stardust/main.py'>\n",
      "Process SpawnPoolWorker-46:\n",
      "Traceback (most recent call last):\n",
      "  File \"/Users/vasily/miniconda3/envs/stardust/lib/python3.9/multiprocessing/process.py\", line 315, in _bootstrap\n",
      "    self.run()\n",
      "  File \"/Users/vasily/miniconda3/envs/stardust/lib/python3.9/multiprocessing/process.py\", line 108, in run\n",
      "    self._target(*self._args, **self._kwargs)\n",
      "  File \"/Users/vasily/miniconda3/envs/stardust/lib/python3.9/multiprocessing/pool.py\", line 114, in worker\n",
      "    task = get()\n",
      "  File \"/Users/vasily/miniconda3/envs/stardust/lib/python3.9/multiprocessing/queues.py\", line 368, in get\n",
      "    return _ForkingPickler.loads(res)\n",
      "AttributeError: Can't get attribute 'mp_wrapper' on <module 'stardust.main' from '/Users/vasily/miniconda3/envs/stardust/lib/python3.9/site-packages/stardust/main.py'>\n",
      "Process SpawnPoolWorker-38:\n",
      "Traceback (most recent call last):\n",
      "  File \"/Users/vasily/miniconda3/envs/stardust/lib/python3.9/multiprocessing/process.py\", line 315, in _bootstrap\n",
      "    self.run()\n",
      "  File \"/Users/vasily/miniconda3/envs/stardust/lib/python3.9/multiprocessing/process.py\", line 108, in run\n",
      "    self._target(*self._args, **self._kwargs)\n",
      "  File \"/Users/vasily/miniconda3/envs/stardust/lib/python3.9/multiprocessing/pool.py\", line 114, in worker\n",
      "    task = get()\n",
      "  File \"/Users/vasily/miniconda3/envs/stardust/lib/python3.9/multiprocessing/queues.py\", line 368, in get\n",
      "    return _ForkingPickler.loads(res)\n",
      "AttributeEr"
     ]
    },
    {
     "name": "stdout",
     "output_type": "stream",
     "text": [
      "Imported filters from filters/filters.txt\n",
      "Imported filters from filters/filters.txt\n",
      "Imported filters from filters/filters.txt\n",
      "Imported filters from filters/filters.txt\n",
      "Imported filters from filters/filters.txt\n",
      "Imported filters from filters/filters.txt\n",
      "Imported filters from filters/filters.txt\n",
      "Imported filters from filters/filters.txt\n",
      "Imported filters from filters/filters.txt\n",
      "Imported filters from filters/filters.txt\n",
      "Imported filters from filters/filters.txt\n",
      "Imported filters from filters/filters.txt\n"
     ]
    },
    {
     "name": "stderr",
     "output_type": "stream",
     "text": [
      "ror: Can't get attribute 'mp_wrapper' on <module 'stardust.main' from '/Users/vasily/miniconda3/envs/stardust/lib/python3.9/site-packages/stardust/main.py'>\n",
      "Process SpawnPoolWorker-43:\n",
      "Process SpawnPoolWorker-48:\n",
      "Traceback (most recent call last):\n",
      "  File \"/Users/vasily/miniconda3/envs/stardust/lib/python3.9/multiprocessing/process.py\", line 315, in _bootstrap\n",
      "    self.run()\n",
      "  File \"/Users/vasily/miniconda3/envs/stardust/lib/python3.9/multiprocessing/process.py\", line 108, in run\n",
      "    self._target(*self._args, **self._kwargs)\n",
      "  File \"/Users/vasily/miniconda3/envs/stardust/lib/python3.9/multiprocessing/pool.py\", line 114, in worker\n",
      "    task = get()\n",
      "  File \"/Users/vasily/miniconda3/envs/stardust/lib/python3.9/multiprocessing/queues.py\", line 368, in get\n",
      "    return _ForkingPickler.loads(res)\n",
      "AttributeError: Can't get attribute 'mp_wrapper' on <module 'stardust.main' from '/Users/vasily/miniconda3/envs/stardust/lib/python3.9/site-packages/stardust/main.py'>\n",
      "Traceback (most recent call last):\n",
      "  File \"/Users/vasily/miniconda3/envs/stardust/lib/python3.9/multiprocessing/process.py\", line 315, in _bootstrap\n",
      "    self.run()\n",
      "  File \"/Users/vasily/miniconda3/envs/stardust/lib/python3.9/multiprocessing/process.py\", line 108, in run\n",
      "    self._target(*self._args, **self._kwargs)\n",
      "  File \"/Users/vasily/miniconda3/envs/stardust/lib/python3.9/multiprocessing/pool.py\", line 114, in worker\n",
      "    task = get()\n",
      "  File \"/Users/vasily/miniconda3/envs/stardust/lib/python3.9/multiprocessing/queues.py\", line 368, in get\n",
      "    return _ForkingPickler.loads(res)\n",
      "AttributeError: Can't get attribute 'mp_wrapper' on <module 'stardust.main' from '/Users/vasily/miniconda3/envs/stardust/lib/python3.9/site-packages/stardust/main.py'>\n",
      "Process SpawnPoolWorker-41:\n",
      "Traceback (most recent call last):\n",
      "  File \"/Users/vasily/miniconda3/envs/stardust/lib/python3.9/multiprocessing/process.py\", line 315, in _bootstrap\n",
      "    self.run()\n",
      "  File \"/Users/vasily/miniconda3/envs/stardust/lib/python3.9/multiprocessing/process.py\", line 108, in run\n",
      "    self._target(*self._args, **self._kwargs)\n",
      "  File \"/Users/vasily/miniconda3/envs/stardust/lib/python3.9/multiprocessing/pool.py\", line 114, in worker\n",
      "    task = get()\n",
      "  File \"/Users/vasily/miniconda3/envs/stardust/lib/python3.9/multiprocessing/queues.py\", line 368, in get\n",
      "    return _ForkingPickler.loads(res)\n",
      "AttributeError: Can't get attribute 'mp_wrapper' on <module 'stardust.main' from '/Users/vasily/miniconda3/envs/stardust/lib/python3.9/site-packages/stardust/main.py'>\n",
      "Process SpawnPoolWorker-44:\n",
      "Traceback (most recent call last):\n",
      "  File \"/Users/vasily/miniconda3/envs/stardust/lib/python3.9/multiprocessing/process.py\", line 315, in _bootstrap\n",
      "    self.run()\n",
      "  File \"/Users/vasily/miniconda3/envs/stardust/lib/python3.9/multiprocessing/process.py\", line 108, in run\n",
      "    self._target(*self._args, **self._kwargs)\n",
      "  File \"/Users/vasily/miniconda3/envs/stardust/lib/python3.9/multiprocessing/pool.py\", line 114, in worker\n",
      "    task = get()\n",
      "  File \"/Users/vasily/miniconda3/envs/stardust/lib/python3.9/multiprocessing/queues.py\", line 368, in get\n",
      "    return _ForkingPickler.loads(res)\n",
      "AttributeError: Can't get attribute 'mp_wrapper' on <module 'stardust.main' from '/Users/vasily/miniconda3/envs/stardust/lib/python3.9/site-packages/stardust/main.py'>\n"
     ]
    }
   ],
   "source": [
    "self.fit_catalogue(n_proc=-1,n_obj=12)"
   ]
  },
  {
   "cell_type": "code",
   "execution_count": null,
   "metadata": {},
   "outputs": [],
   "source": []
  },
  {
   "cell_type": "code",
   "execution_count": null,
   "metadata": {},
   "outputs": [],
   "source": []
  },
  {
   "cell_type": "code",
   "execution_count": null,
   "metadata": {},
   "outputs": [],
   "source": []
  },
  {
   "cell_type": "code",
   "execution_count": 1,
   "metadata": {},
   "outputs": [
    {
     "name": "stdout",
     "output_type": "stream",
     "text": [
      "Imported filters from filters/filters.txt\n"
     ]
    }
   ],
   "source": [
    "from obj_main import *\n",
    "from tqdm.notebook import tqdm_notebook"
   ]
  },
  {
   "cell_type": "code",
   "execution_count": 2,
   "metadata": {},
   "outputs": [
    {
     "name": "stdout",
     "output_type": "stream",
     "text": [
      "READ CONFIG FILE example.config\n",
      "Read a catalogue with 300 objects\n",
      "Read band file: example/stellar+ir/example.bands\n",
      "Read param file: example/stellar+ir/example.bands\n",
      "Detected the following parameters ['ID', 'z', 'Mstar']\n",
      "Input Bands: ok\n",
      "Input Filters: ok\n",
      "Data Loaded Successfully\n",
      "Objects to Fit: 300\n"
     ]
    }
   ],
   "source": [
    "self = ctf('example.config')"
   ]
  },
  {
   "cell_type": "code",
   "execution_count": 3,
   "metadata": {},
   "outputs": [
    {
     "name": "stdout",
     "output_type": "stream",
     "text": [
      "Begin Multithreading\n",
      "12 threads utilised\n"
     ]
    },
    {
     "name": "stderr",
     "output_type": "stream",
     "text": [
      "100%|██████████| 12/12 [00:16<00:00,  1.38s/it]\n"
     ]
    },
    {
     "name": "stdout",
     "output_type": "stream",
     "text": [
      "Finished Fitting, Preparing Output..\n",
      "Time Elapsed: 17.469239950180054 s\n"
     ]
    }
   ],
   "source": [
    "self.fit_catalogue(n_proc=-1,n_obj=12)"
   ]
  },
  {
   "cell_type": "code",
   "execution_count": 4,
   "metadata": {},
   "outputs": [
    {
     "data": {
      "text/html": [
       "<i>Table length=300</i>\n",
       "<table id=\"table4599598416\" class=\"table-striped table-bordered table-condensed\">\n",
       "<thead><tr><th>id</th><th>z</th><th>mstar_input</th><th>lir</th><th>e_lir</th><th>lir_agn</th><th>e_lir_agn</th><th>lir_tot</th><th>e_lir_tot</th><th>f_agn</th><th>e_f_agn</th><th>mdust</th><th>e_mdust</th><th>mgas</th><th>e_mgas</th><th>delta_gdr</th><th>mstar</th><th>e_mstar</th><th>av</th><th>e_av</th><th>sfr_opt</th><th>e_sfr_opt</th><th>avu</th><th>e_avu</th><th>umin</th><th>qpah_idx</th><th>gamma</th><th>chi2</th><th>nfilt</th><th>lastdet</th></tr></thead>\n",
       "<thead><tr><th>int64</th><th>float64</th><th>float64</th><th>float64</th><th>float64</th><th>float64</th><th>float64</th><th>float64</th><th>float64</th><th>float64</th><th>float64</th><th>float64</th><th>float64</th><th>float64</th><th>float64</th><th>float64</th><th>float64</th><th>float64</th><th>float64</th><th>float64</th><th>float64</th><th>float64</th><th>float64</th><th>float64</th><th>float64</th><th>float64</th><th>int64</th><th>float64</th><th>int64</th><th>float64</th></tr></thead>\n",
       "<tr><td>10239543</td><td>3.262200117111206</td><td>10471296517.666538</td><td>5401522220606.881</td><td>540555705473.4531</td><td>0.0</td><td>0.0</td><td>5401522220606.881</td><td>540555705473.4531</td><td>0.0</td><td>0.0</td><td>8138472148.444542</td><td>4834620992.543593</td><td>1845291803623.5286</td><td>1096186892139.4557</td><td>226.73688254572554</td><td>133642338680.01259</td><td>33938228098.366516</td><td>2.0694250421877483</td><td>3.520486460431498e-10</td><td>60.36976700554254</td><td>28.45984900309027</td><td>0.0</td><td>0.0</td><td>1.2</td><td>1.0</td><td>0</td><td>10.61476062131634</td><td>32</td><td>0.0</td></tr>\n",
       "<tr><td>10126383</td><td>0.12460000067949295</td><td>8912505.467113454</td><td>3590773201.6921954</td><td>610147147.7849307</td><td>0.0</td><td>0.0</td><td>3590773201.6921954</td><td>610147147.7849307</td><td>0.0</td><td>0.0</td><td>43338253.78525951</td><td>11795047.706675055</td><td>3.0171766199839976e+48</td><td>8.211623465152208e+47</td><td>6.961924758053403e+40</td><td>3670101737.5068774</td><td>78443246.91370869</td><td>0.33110182561346785</td><td>1.0357102327974164e-11</td><td>1.2155923858890765</td><td>0.023731724904673346</td><td>0.0</td><td>0.0</td><td>0.6</td><td>5.0</td><td>0</td><td>26.209484770257152</td><td>31</td><td>0.0</td></tr>\n",
       "<tr><td>10253058</td><td>0.24740000069141388</td><td>138038535583.8289</td><td>142776753750.26974</td><td>229856776.31390762</td><td>4597540538.431208</td><td>1210688768.3833199</td><td>147374294288.70096</td><td>1226447536.4457493</td><td>0.03119635320814355</td><td>0.047779058520002984</td><td>315486097.04240555</td><td>30877197.350268453</td><td>24080425456.382984</td><td>2356794977.86308</td><td>76.32800837225564</td><td>291494416685.0781</td><td>252331263.12332153</td><td>0.8497789657746541</td><td>3.0130889978263025e-13</td><td>8.54318448425428</td><td>0.02845826594204226</td><td>0.0</td><td>0.0</td><td>3.0</td><td>6.0</td><td>0</td><td>154.57051787810803</td><td>33</td><td>0.0</td></tr>\n",
       "<tr><td>10108428</td><td>0.6700000166893005</td><td>23442281975.923817</td><td>294435315697.8417</td><td>836207453.2706013</td><td>0.0</td><td>0.0</td><td>294435315697.8417</td><td>836207453.2706013</td><td>0.0</td><td>0.0</td><td>604401263.6150823</td><td>70302925.1249783</td><td>69591980616.67358</td><td>8094820605.320217</td><td>115.14201707724057</td><td>101330355765.38089</td><td>4979977848.052353</td><td>1.1340100270028246</td><td>2.4670591086332727e-11</td><td>31.624437236064413</td><td>1.6929111480701735</td><td>0.0</td><td>0.0</td><td>3.0</td><td>2.0</td><td>0</td><td>20.832680611028977</td><td>33</td><td>0.0</td></tr>\n",
       "<tr><td>10041645</td><td>2.572499990463257</td><td>45708802901.85209</td><td>2039756166207.5154</td><td>7477674717.124481</td><td>0.0</td><td>0.0</td><td>2039756166207.5154</td><td>7477674717.124481</td><td>0.0</td><td>0.0</td><td>3550288537.9889975</td><td>993415992.0458009</td><td>401315730833.6148</td><td>112293257464.4998</td><td>113.03749724548685</td><td>128415889317.7721</td><td>11532061410.803574</td><td>1.1259284537404155</td><td>2.1090729542800284e-10</td><td>14.136794731183294</td><td>11.131712463750212</td><td>0.0</td><td>0.0</td><td>4.0</td><td>2.0</td><td>0</td><td>7.194948137190414</td><td>30</td><td>0.0</td></tr>\n",
       "<tr><td>10227270</td><td>0.7372999787330627</td><td>32359382746.997105</td><td>193337340844.3722</td><td>1091344863.5481472</td><td>0.0</td><td>392048018.2168076</td><td>193337340844.3722</td><td>1307433621.6591148</td><td>0.0</td><td>0.020097503713902752</td><td>242640465.7788604</td><td>41408404.0454279</td><td>23848037545.468494</td><td>4069845362.3695984</td><td>98.2854919475934</td><td>47818670967.72768</td><td>5084755048.863464</td><td>1.871935298138688</td><td>6.746802095022558e-11</td><td>27.167775900943887</td><td>2.2495452550788553</td><td>0.0</td><td>0.0</td><td>5.0</td><td>3.0</td><td>0</td><td>31.892736476905718</td><td>33</td><td>0.0</td></tr>\n",
       "<tr><td>10120472</td><td>1.05649995803833</td><td>70794640622.02759</td><td>392945468951.27075</td><td>1564806208.908537</td><td>7454453009.755834</td><td>5031421937.238825</td><td>400399921961.0266</td><td>6803228921.229443</td><td>0.018617518637981705</td><td>0.08266633400090527</td><td>244519699.7741434</td><td>62913991.22238986</td><td>20921035977.643238</td><td>5382903197.887587</td><td>85.55971562605166</td><td>103966877947.88661</td><td>7265297185.911369</td><td>0.5477248223462736</td><td>9.173906352619962e-11</td><td>27.390936814122277</td><td>5.71811102503378</td><td>0.0</td><td>0.0</td><td>10.0</td><td>2.0</td><td>0</td><td>26.33349455719595</td><td>33</td><td>0.0</td></tr>\n",
       "<tr><td>10094501</td><td>0.03999999910593033</td><td>13489632380.568445</td><td>65060873555.92424</td><td>0.0</td><td>1683687765.8229074</td><td>0.0</td><td>66744561321.74715</td><td>0.0</td><td>0.025225842113285678</td><td>0.0</td><td>49632611.80966599</td><td>0.0</td><td>5871812820.833807</td><td>0.0</td><td>118.30553756371665</td><td>140734.90403996065</td><td>43909.364631153214</td><td>0.06006750638728917</td><td>0.0</td><td>1.096456203670308e-06</td><td>3.4209491652034823e-07</td><td>0.0</td><td>0.0</td><td>5.0</td><td>0.0</td><td>0</td><td>7651.428851058556</td><td>33</td><td>0.0</td></tr>\n",
       "<tr><td>10242336</td><td>1.5326000452041626</td><td>3548135450.617081</td><td>643640473226.7025</td><td>21279266044.5119</td><td>53476147730.67177</td><td>6900088721.327663</td><td>697116620957.3743</td><td>21927092952.583862</td><td>0.07671047587020825</td><td>0.01041597819659107</td><td>7493104380.739804</td><td>2718627310.8054433</td><td>1845859725742.8445</td><td>669709696720.5051</td><td>246.3411200419712</td><td>15074202758.165497</td><td>4376064141.350377</td><td>0.8730168222211364</td><td>3.299271630928887e-10</td><td>15.713234963486126</td><td>5.817167717637524</td><td>0.0</td><td>0.0</td><td>0.5</td><td>0.0</td><td>0</td><td>5.458431905256717</td><td>32</td><td>0.0</td></tr>\n",
       "<tr><td>10262318</td><td>1.4388999938964844</td><td>4897783461.428336</td><td>670462788746.5309</td><td>32056860247.99652</td><td>0.0</td><td>0.0</td><td>670462788746.5309</td><td>32056860247.99652</td><td>0.0</td><td>0.0</td><td>10067683507.511944</td><td>3956137977.3803635</td><td>2335730998833.746</td><td>917835180509.6006</td><td>232.00282339934049</td><td>6702272434.168924</td><td>1438264771.77072</td><td>0.5010962628490989</td><td>1.8411211704465762e-10</td><td>14.327460906744033</td><td>2.6022685137443853</td><td>0.0</td><td>0.0</td><td>0.4</td><td>0.0</td><td>0</td><td>8.653972546736098</td><td>32</td><td>0.0</td></tr>\n",
       "<tr><td>...</td><td>...</td><td>...</td><td>...</td><td>...</td><td>...</td><td>...</td><td>...</td><td>...</td><td>...</td><td>...</td><td>...</td><td>...</td><td>...</td><td>...</td><td>...</td><td>...</td><td>...</td><td>...</td><td>...</td><td>...</td><td>...</td><td>...</td><td>...</td><td>...</td><td>...</td><td>...</td><td>...</td><td>...</td><td>...</td></tr>\n",
       "<tr><td>10018189</td><td>1.5199999809265137</td><td>41686927362.11188</td><td>0.0</td><td>0.0</td><td>0.0</td><td>0.0</td><td>0.0</td><td>0.0</td><td>0.0</td><td>0.0</td><td>0.0</td><td>0.0</td><td>0.0</td><td>0.0</td><td>0.0</td><td>0.0</td><td>0.0</td><td>0.0</td><td>0.0</td><td>0.0</td><td>0.0</td><td>0.0</td><td>0.0</td><td>0.0</td><td>0.0</td><td>0</td><td>0.0</td><td>0</td><td>0.0</td></tr>\n",
       "<tr><td>10209946</td><td>0.7289999723434448</td><td>12022642234.116693</td><td>0.0</td><td>0.0</td><td>0.0</td><td>0.0</td><td>0.0</td><td>0.0</td><td>0.0</td><td>0.0</td><td>0.0</td><td>0.0</td><td>0.0</td><td>0.0</td><td>0.0</td><td>0.0</td><td>0.0</td><td>0.0</td><td>0.0</td><td>0.0</td><td>0.0</td><td>0.0</td><td>0.0</td><td>0.0</td><td>0.0</td><td>0</td><td>0.0</td><td>0</td><td>0.0</td></tr>\n",
       "<tr><td>10078348</td><td>2.7074999809265137</td><td>66069298374.29629</td><td>0.0</td><td>0.0</td><td>0.0</td><td>0.0</td><td>0.0</td><td>0.0</td><td>0.0</td><td>0.0</td><td>0.0</td><td>0.0</td><td>0.0</td><td>0.0</td><td>0.0</td><td>0.0</td><td>0.0</td><td>0.0</td><td>0.0</td><td>0.0</td><td>0.0</td><td>0.0</td><td>0.0</td><td>0.0</td><td>0.0</td><td>0</td><td>0.0</td><td>0</td><td>0.0</td></tr>\n",
       "<tr><td>10090834</td><td>0.025200000032782555</td><td>7943275370.132719</td><td>0.0</td><td>0.0</td><td>0.0</td><td>0.0</td><td>0.0</td><td>0.0</td><td>0.0</td><td>0.0</td><td>0.0</td><td>0.0</td><td>0.0</td><td>0.0</td><td>0.0</td><td>0.0</td><td>0.0</td><td>0.0</td><td>0.0</td><td>0.0</td><td>0.0</td><td>0.0</td><td>0.0</td><td>0.0</td><td>0.0</td><td>0</td><td>0.0</td><td>0</td><td>0.0</td></tr>\n",
       "<tr><td>10006410</td><td>0.27000001072883606</td><td>2137961713.9194071</td><td>0.0</td><td>0.0</td><td>0.0</td><td>0.0</td><td>0.0</td><td>0.0</td><td>0.0</td><td>0.0</td><td>0.0</td><td>0.0</td><td>0.0</td><td>0.0</td><td>0.0</td><td>0.0</td><td>0.0</td><td>0.0</td><td>0.0</td><td>0.0</td><td>0.0</td><td>0.0</td><td>0.0</td><td>0.0</td><td>0.0</td><td>0</td><td>0.0</td><td>0</td><td>0.0</td></tr>\n",
       "<tr><td>10230464</td><td>0.9987999796867371</td><td>41686927362.11188</td><td>0.0</td><td>0.0</td><td>0.0</td><td>0.0</td><td>0.0</td><td>0.0</td><td>0.0</td><td>0.0</td><td>0.0</td><td>0.0</td><td>0.0</td><td>0.0</td><td>0.0</td><td>0.0</td><td>0.0</td><td>0.0</td><td>0.0</td><td>0.0</td><td>0.0</td><td>0.0</td><td>0.0</td><td>0.0</td><td>0.0</td><td>0</td><td>0.0</td><td>0</td><td>0.0</td></tr>\n",
       "<tr><td>10175241</td><td>0.11999999731779099</td><td>22387231049.86867</td><td>0.0</td><td>0.0</td><td>0.0</td><td>0.0</td><td>0.0</td><td>0.0</td><td>0.0</td><td>0.0</td><td>0.0</td><td>0.0</td><td>0.0</td><td>0.0</td><td>0.0</td><td>0.0</td><td>0.0</td><td>0.0</td><td>0.0</td><td>0.0</td><td>0.0</td><td>0.0</td><td>0.0</td><td>0.0</td><td>0.0</td><td>0</td><td>0.0</td><td>0</td><td>0.0</td></tr>\n",
       "<tr><td>10121058</td><td>0.1860000044107437</td><td>15488151224.416985</td><td>0.0</td><td>0.0</td><td>0.0</td><td>0.0</td><td>0.0</td><td>0.0</td><td>0.0</td><td>0.0</td><td>0.0</td><td>0.0</td><td>0.0</td><td>0.0</td><td>0.0</td><td>0.0</td><td>0.0</td><td>0.0</td><td>0.0</td><td>0.0</td><td>0.0</td><td>0.0</td><td>0.0</td><td>0.0</td><td>0.0</td><td>0</td><td>0.0</td><td>0</td><td>0.0</td></tr>\n",
       "<tr><td>10055434</td><td>0.75</td><td>21379617139.19407</td><td>0.0</td><td>0.0</td><td>0.0</td><td>0.0</td><td>0.0</td><td>0.0</td><td>0.0</td><td>0.0</td><td>0.0</td><td>0.0</td><td>0.0</td><td>0.0</td><td>0.0</td><td>0.0</td><td>0.0</td><td>0.0</td><td>0.0</td><td>0.0</td><td>0.0</td><td>0.0</td><td>0.0</td><td>0.0</td><td>0.0</td><td>0</td><td>0.0</td><td>0</td><td>0.0</td></tr>\n",
       "<tr><td>10005858</td><td>1.269700050354004</td><td>50118701351.4281</td><td>0.0</td><td>0.0</td><td>0.0</td><td>0.0</td><td>0.0</td><td>0.0</td><td>0.0</td><td>0.0</td><td>0.0</td><td>0.0</td><td>0.0</td><td>0.0</td><td>0.0</td><td>0.0</td><td>0.0</td><td>0.0</td><td>0.0</td><td>0.0</td><td>0.0</td><td>0.0</td><td>0.0</td><td>0.0</td><td>0.0</td><td>0</td><td>0.0</td><td>0</td><td>0.0</td></tr>\n",
       "</table>"
      ],
      "text/plain": [
       "<Table length=300>\n",
       "   id             z              mstar_input     ... nfilt lastdet\n",
       " int64         float64             float64       ... int64 float64\n",
       "-------- -------------------- ------------------ ... ----- -------\n",
       "10239543    3.262200117111206 10471296517.666538 ...    32     0.0\n",
       "10126383  0.12460000067949295  8912505.467113454 ...    31     0.0\n",
       "10253058  0.24740000069141388  138038535583.8289 ...    33     0.0\n",
       "10108428   0.6700000166893005 23442281975.923817 ...    33     0.0\n",
       "10041645    2.572499990463257  45708802901.85209 ...    30     0.0\n",
       "10227270   0.7372999787330627 32359382746.997105 ...    33     0.0\n",
       "10120472     1.05649995803833  70794640622.02759 ...    33     0.0\n",
       "10094501  0.03999999910593033 13489632380.568445 ...    33     0.0\n",
       "10242336   1.5326000452041626  3548135450.617081 ...    32     0.0\n",
       "10262318   1.4388999938964844  4897783461.428336 ...    32     0.0\n",
       "     ...                  ...                ... ...   ...     ...\n",
       "10018189   1.5199999809265137  41686927362.11188 ...     0     0.0\n",
       "10209946   0.7289999723434448 12022642234.116693 ...     0     0.0\n",
       "10078348   2.7074999809265137  66069298374.29629 ...     0     0.0\n",
       "10090834 0.025200000032782555  7943275370.132719 ...     0     0.0\n",
       "10006410  0.27000001072883606 2137961713.9194071 ...     0     0.0\n",
       "10230464   0.9987999796867371  41686927362.11188 ...     0     0.0\n",
       "10175241  0.11999999731779099  22387231049.86867 ...     0     0.0\n",
       "10121058   0.1860000044107437 15488151224.416985 ...     0     0.0\n",
       "10055434                 0.75  21379617139.19407 ...     0     0.0\n",
       "10005858    1.269700050354004   50118701351.4281 ...     0     0.0"
      ]
     },
     "execution_count": 4,
     "metadata": {},
     "output_type": "execute_result"
    }
   ],
   "source": [
    "self.tab"
   ]
  },
  {
   "cell_type": "code",
   "execution_count": null,
   "metadata": {},
   "outputs": [],
   "source": [
    "self.test(n_obj=4)"
   ]
  },
  {
   "cell_type": "code",
   "execution_count": null,
   "metadata": {},
   "outputs": [],
   "source": [
    "self.show_fit(1,radio=True)"
   ]
  },
  {
   "cell_type": "code",
   "execution_count": null,
   "metadata": {},
   "outputs": [],
   "source": [
    "import multiprocessing as mp\n",
    "from tqdm import tqdm\n",
    "pool = mp.Pool(4)\n",
    "    \n",
    "    \n",
    "def simple(idx):\n",
    "    return idx,idx+1\n",
    "\n",
    "objects = range(4)\n",
    "    \n",
    "jobs = [pool.apply_async(simple,(idx,)) for idx in range(4)]\n",
    "\n",
    "pool.close()\n",
    "\n",
    "mp_out= pool.map(fit_object,objects)\n",
    "mp_out=np.array(mp_out)\n",
    "\n",
    "# Gather results\n",
    "for res in tqdm(jobs):\n",
    "    idx_all,otp_all = res.get(timeout=60)"
   ]
  },
  {
   "cell_type": "code",
   "execution_count": null,
   "metadata": {},
   "outputs": [],
   "source": [
    "pool = mp.Pool(4)\n",
    "objects = range(4)\n",
    "mp_out= pool.map(self.fit_object,objects)\n",
    "mp_out=np.array(mp_out)"
   ]
  },
  {
   "cell_type": "code",
   "execution_count": null,
   "metadata": {},
   "outputs": [],
   "source": [
    "plt.plot(self.zcat,self.lum_corr,'kx')"
   ]
  },
  {
   "cell_type": "code",
   "execution_count": null,
   "metadata": {},
   "outputs": [],
   "source": [
    "idx=0\n",
    "otplist = [self.usephot[idx,:],self.nfilt[idx],self.mdust[idx]]\n",
    "otplist"
   ]
  },
  {
   "cell_type": "code",
   "execution_count": null,
   "metadata": {},
   "outputs": [],
   "source": [
    "def mp_wrapper(i):\n",
    "    idx,otp = self.fit_object(i)\n",
    "    return idx,otp"
   ]
  },
  {
   "cell_type": "code",
   "execution_count": null,
   "metadata": {},
   "outputs": [],
   "source": [
    "obj = range(12)"
   ]
  },
  {
   "cell_type": "code",
   "execution_count": null,
   "metadata": {},
   "outputs": [],
   "source": [
    "from multiprocessing import Pool\n",
    "pool = Pool(12)\n",
    "jobs = [pool.apply_async(self.fit_object,(idx)) for idx in range(self.NOBJ)]\n",
    "pool.close()\n",
    "\n",
    "for res in tqdm(jobs):\n",
    "    idx,mp_out = res.get(timeout=60)\n",
    "    #self.chi2_fit[idx_fit,iz] = chi2\n",
    "    #self.fit_coeffs[idx_fit,iz,:] = coeffs\n",
    "\n",
    "\n"
   ]
  },
  {
   "cell_type": "code",
   "execution_count": null,
   "metadata": {},
   "outputs": [],
   "source": [
    "timer_start = time.time()\n",
    "from multiprocessing import Pool,Process, Lock\n",
    "import multiprocessing\n",
    "print('Begin multithreading')\n",
    "pool = Pool()\n",
    "print(multiprocessing.cpu_count(),'threads utilised')\n",
    "jobs = [pool.apply_async(mp_wrapper,(i,) ) for i in obj]\n",
    "pool.close()\n",
    "mp_out = []\n",
    "for res in tqdm(jobs):\n",
    "    mp_out.append(res.get())\n",
    "mp_out=np.array(mp_out)\n",
    "#mp_out= np.array(pool.map(mp_wrapper,obj))\n",
    "print ('Code took',time.time()-timer_start, 's to run')"
   ]
  },
  {
   "cell_type": "code",
   "execution_count": null,
   "metadata": {},
   "outputs": [],
   "source": [
    "self.show_fit(0)"
   ]
  },
  {
   "cell_type": "code",
   "execution_count": null,
   "metadata": {},
   "outputs": [],
   "source": [
    "self.mp_restructure(mp_out)"
   ]
  },
  {
   "cell_type": "code",
   "execution_count": null,
   "metadata": {},
   "outputs": [],
   "source": [
    "self.fit_object(0)"
   ]
  },
  {
   "cell_type": "code",
   "execution_count": null,
   "metadata": {},
   "outputs": [],
   "source": []
  },
  {
   "cell_type": "code",
   "execution_count": null,
   "metadata": {},
   "outputs": [],
   "source": [
    "self.show_fit(5,radio=True)"
   ]
  },
  {
   "cell_type": "code",
   "execution_count": null,
   "metadata": {},
   "outputs": [],
   "source": [
    "self.fnu[10]"
   ]
  },
  {
   "cell_type": "code",
   "execution_count": null,
   "metadata": {},
   "outputs": [],
   "source": [
    "from astropy.io import fits\n",
    "hdul = fits.HDUList()\n",
    "hdul.append(fits.ImageHDU())\n",
    "hdul.append(fits.ImageHDU())"
   ]
  },
  {
   "cell_type": "code",
   "execution_count": null,
   "metadata": {},
   "outputs": [],
   "source": [
    "new_hdul[0].name = 'test'"
   ]
  },
  {
   "cell_type": "code",
   "execution_count": null,
   "metadata": {},
   "outputs": [],
   "source": [
    "idx=0\n",
    "sed_x = self.templ  * (1+self.zcat[idx])"
   ]
  },
  {
   "cell_type": "code",
   "execution_count": null,
   "metadata": {},
   "outputs": [],
   "source": [
    "sed_radio = self.radio_sed(idx,sed_x,alpha=-0.75)"
   ]
  },
  {
   "cell_type": "code",
   "execution_count": null,
   "metadata": {},
   "outputs": [],
   "source": [
    "sed_radio"
   ]
  },
  {
   "cell_type": "code",
   "execution_count": null,
   "metadata": {},
   "outputs": [],
   "source": [
    "self.data[self.data['id']==18382]"
   ]
  },
  {
   "cell_type": "code",
   "execution_count": null,
   "metadata": {},
   "outputs": [],
   "source": [
    "self.wav_extra[11]"
   ]
  },
  {
   "cell_type": "code",
   "execution_count": null,
   "metadata": {},
   "outputs": [],
   "source": [
    "run_catalogue('example.config')"
   ]
  },
  {
   "cell_type": "code",
   "execution_count": null,
   "metadata": {},
   "outputs": [],
   "source": [
    "def execute(obj=4):\n",
    "    obj = range(obj)\n",
    "    global mp_wrapper\n",
    "    def mp_wrapper(i):\n",
    "        idx,otp = self.fit_object(i)\n",
    "        return idx,otp\n",
    "    timer_start = time.time()\n",
    "    import multiprocessing as mp\n",
    "    print('Begin multithreading')\n",
    "    pool = mp.Pool(12)\n",
    "    print(mp.cpu_count(),'threads utilised')\n",
    "    mp_out= np.array(pool.map(mp_wrapper,obj))\n",
    "    print ('Code took',time.time()-timer_start, 's to run')"
   ]
  },
  {
   "cell_type": "code",
   "execution_count": null,
   "metadata": {},
   "outputs": [],
   "source": [
    "execute(4)"
   ]
  },
  {
   "cell_type": "code",
   "execution_count": null,
   "metadata": {},
   "outputs": [],
   "source": []
  }
 ],
 "metadata": {
  "kernelspec": {
   "display_name": "Python 3 (ipykernel)",
   "language": "python",
   "name": "python3"
  },
  "language_info": {
   "codemirror_mode": {
    "name": "ipython",
    "version": 3
   },
   "file_extension": ".py",
   "mimetype": "text/x-python",
   "name": "python",
   "nbconvert_exporter": "python",
   "pygments_lexer": "ipython3",
   "version": "3.9.7"
  }
 },
 "nbformat": 4,
 "nbformat_minor": 2
}
